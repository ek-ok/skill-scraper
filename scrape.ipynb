{
 "cells": [
  {
   "cell_type": "code",
   "execution_count": 25,
   "metadata": {},
   "outputs": [],
   "source": [
    "import string\n",
    "from collections import defaultdict\n",
    "import json\n",
    "\n",
    "import requests\n",
    "from bs4 import BeautifulSoup\n",
    "from requests.compat import urljoin\n",
    "from tqdm import tqdm"
   ]
  },
  {
   "cell_type": "code",
   "execution_count": 2,
   "metadata": {},
   "outputs": [],
   "source": [
    "root = \"https://www.payscale.com\""
   ]
  },
  {
   "cell_type": "markdown",
   "metadata": {},
   "source": [
    "# Scrape the list of skill categories"
   ]
  },
  {
   "cell_type": "code",
   "execution_count": 3,
   "metadata": {},
   "outputs": [],
   "source": [
    "skill_main = \"research/US/Skill\"\n",
    "url = urljoin(root, skill_main)\n",
    "r = requests.get(url)\n",
    "soup = BeautifulSoup(r.content, \"html.parser\")\n",
    "skill_cats = [e[\"href\"] for e in soup.find_all(attrs={\"class\": \"related-content-card\"})]"
   ]
  },
  {
   "cell_type": "markdown",
   "metadata": {},
   "source": [
    "# Scrape the skills for each category\n",
    "Skills are listed by alphabets and some has multiple pages"
   ]
  },
  {
   "cell_type": "code",
   "execution_count": 22,
   "metadata": {},
   "outputs": [
    {
     "name": "stderr",
     "output_type": "stream",
     "text": [
      "100%|██████████| 27/27 [16:19<00:00, 36.28s/it]\n"
     ]
    }
   ],
   "source": [
    "skills = set()\n",
    "a_to_z = string.ascii_uppercase + \"#\"\n",
    "\n",
    "skills = defaultdict(set)\n",
    "for skill_cat in tqdm(skill_cats):\n",
    "    skill_cat_txt = skill_cat.split(\"/\")[-1]\n",
    "    for char in a_to_z:\n",
    "        for n in range(1, 4):\n",
    "            url = f\"{root}{skill_cat}/{char}/Page-{n}\"\n",
    "            r = requests.get(url)\n",
    "            soup = BeautifulSoup(r.content, \"html.parser\")\n",
    "            for a in soup.find_all(attrs={\"class\": \"subcats__links__item\"}):\n",
    "                skills[skill_cat_txt].add(a.text)"
   ]
  },
  {
   "cell_type": "markdown",
   "metadata": {},
   "source": [
    "# Save the skills into JSON"
   ]
  },
  {
   "cell_type": "code",
   "execution_count": 29,
   "metadata": {},
   "outputs": [],
   "source": [
    "def set_default(obj):\n",
    "    if isinstance(obj, set):\n",
    "        return list(obj)\n",
    "    raise TypeError\n",
    "\n",
    "\n",
    "with open(\"skills.json\", \"w\") as f:\n",
    "    json.dump(skills, f, default=set_default, indent=4)"
   ]
  }
 ],
 "metadata": {
  "kernelspec": {
   "display_name": "Python 3",
   "language": "python",
   "name": "python3"
  },
  "language_info": {
   "codemirror_mode": {
    "name": "ipython",
    "version": 3
   },
   "file_extension": ".py",
   "mimetype": "text/x-python",
   "name": "python",
   "nbconvert_exporter": "python",
   "pygments_lexer": "ipython3",
   "version": "3.7.6"
  }
 },
 "nbformat": 4,
 "nbformat_minor": 2
}
