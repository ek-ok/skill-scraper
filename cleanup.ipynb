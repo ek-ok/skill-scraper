{
 "cells": [
  {
   "cell_type": "code",
   "execution_count": 1,
   "metadata": {},
   "outputs": [],
   "source": [
    "import json\n",
    "import re\n",
    "\n",
    "import pandas as pd"
   ]
  },
  {
   "cell_type": "code",
   "execution_count": 2,
   "metadata": {},
   "outputs": [],
   "source": [
    "with open(\"skills.json\") as f:\n",
    "    data = json.load(f)"
   ]
  },
  {
   "cell_type": "code",
   "execution_count": 3,
   "metadata": {},
   "outputs": [
    {
     "data": {
      "text/plain": [
       "(3195, 2)"
      ]
     },
     "execution_count": 3,
     "metadata": {},
     "output_type": "execute_result"
    }
   ],
   "source": [
    "flattened = [(cat, skill) for cat, skills in data.items() for skill in skills]\n",
    "skills = pd.DataFrame(flattened, columns=[\"industory\", \"skill\"])\n",
    "skills = skills.sort_values([\"industory\", \"skill\"]).reset_index(drop=True)\n",
    "skills.shape"
   ]
  },
  {
   "cell_type": "markdown",
   "metadata": {},
   "source": [
    "# Clean up skills\n",
    "For example `Anti-Money Laundering (AML)` to `Anti-Money Laundering` and `ALM`"
   ]
  },
  {
   "cell_type": "code",
   "execution_count": 4,
   "metadata": {},
   "outputs": [],
   "source": [
    "skills[\"skill_clean\"] = skills.skill\n",
    "cleaned_skills_lst = []\n",
    "re_abbr = r\" \\((?P<abbr>.+?)\\)\"\n",
    "\n",
    "for i, row in skills.iterrows():\n",
    "    skill = row.skill\n",
    "    m = re.search(re_abbr, skill)\n",
    "    if m:\n",
    "        skills = skills[skills.index!=i]\n",
    "        spell_out = re.sub(re_abbr, \"\", skill)\n",
    "        abbr = m[\"abbr\"] + skill[m.span()[1]:]\n",
    "        \n",
    "        cleaned_skills_lst.append([row.industory, skill, spell_out])\n",
    "        cleaned_skills_lst.append([row.industory, skill, abbr])\n",
    "        \n",
    "cleaned_skills = pd.DataFrame(cleaned_skills_lst, columns=skills.columns)"
   ]
  },
  {
   "cell_type": "code",
   "execution_count": 5,
   "metadata": {},
   "outputs": [
    {
     "data": {
      "text/plain": [
       "(3683, 3)"
      ]
     },
     "execution_count": 5,
     "metadata": {},
     "output_type": "execute_result"
    }
   ],
   "source": [
    "skills = pd.concat([skills, cleaned_skills], axis=0)\n",
    "skills.shape"
   ]
  },
  {
   "cell_type": "code",
   "execution_count": 6,
   "metadata": {},
   "outputs": [],
   "source": [
    "skills.to_csv(\"cleaned_skills.csv\", index=False)"
   ]
  },
  {
   "cell_type": "code",
   "execution_count": null,
   "metadata": {},
   "outputs": [],
   "source": []
  }
 ],
 "metadata": {
  "kernelspec": {
   "display_name": "Python 3",
   "language": "python",
   "name": "python3"
  },
  "language_info": {
   "codemirror_mode": {
    "name": "ipython",
    "version": 3
   },
   "file_extension": ".py",
   "mimetype": "text/x-python",
   "name": "python",
   "nbconvert_exporter": "python",
   "pygments_lexer": "ipython3",
   "version": "3.7.6"
  }
 },
 "nbformat": 4,
 "nbformat_minor": 2
}
